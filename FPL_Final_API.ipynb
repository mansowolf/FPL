{
 "cells": [
  {
   "cell_type": "code",
   "execution_count": null,
   "id": "480b0557",
   "metadata": {},
   "outputs": [],
   "source": [
    "import requests, json\n",
    "from pprint import pprint\n",
    "\n",
    "# base url for all FPL API endpoints\n",
    "url1 = 'https://fantasy.premierleague.com/api/bootstrap-static/'\n",
    "base_url = 'https://fantasy.premierleague.com/api/'\n",
    "\n",
    "# get data from bootstrap-static endpoint\n",
    "r1 = requests.get(url1).json()\n",
    "\n",
    "# show the top level fields\n",
    "pprint(r1, indent=1, depth=1)"
   ]
  },
  {
   "cell_type": "code",
   "execution_count": null,
   "id": "9a786572",
   "metadata": {},
   "outputs": [],
   "source": [
    "# get player data from 'elements' field\n",
    "# players = r1['elements']\n",
    "# show data for first player\n",
    "# pprint(players[124])\n",
    "\n",
    "pprint(r1['elements'], indent=1, depth=2)"
   ]
  },
  {
   "cell_type": "code",
   "execution_count": 3,
   "id": "1522daa2",
   "metadata": {},
   "outputs": [],
   "source": [
    "import pandas as pd\n",
    "pd.set_option('display.max_columns', None)"
   ]
  },
  {
   "cell_type": "code",
   "execution_count": null,
   "id": "8909031c",
   "metadata": {},
   "outputs": [],
   "source": [
    "# create players dataframe\n",
    "players = pd.json_normalize(r1['elements'])\n",
    "\n",
    "# show some informatidon about first five players\n",
    "players[['id', 'web_name', 'team', 'element_type']].head()"
   ]
  },
  {
   "cell_type": "code",
   "execution_count": null,
   "id": "69b89b6f",
   "metadata": {},
   "outputs": [],
   "source": [
    "# create teams dataframe\n",
    "teams = pd.json_normalize(r1['teams'])\n",
    "teams.head()"
   ]
  },
  {
   "cell_type": "code",
   "execution_count": null,
   "id": "b858639c",
   "metadata": {},
   "outputs": [],
   "source": [
    "# get position information from 'element_types' field\n",
    "positions = pd.json_normalize(r1['element_types'])\n",
    "positions.head()"
   ]
  },
  {
   "cell_type": "code",
   "execution_count": null,
   "id": "c763c625",
   "metadata": {},
   "outputs": [],
   "source": [
    "# join players to teams\n",
    "df = pd.merge(\n",
    "    left=players,\n",
    "    right=teams,\n",
    "    left_on='team',\n",
    "    right_on='id'\n",
    ")\n",
    "\n",
    "# show joined result\n",
    "df[['first_name', 'second_name', 'name']].head()"
   ]
  },
  {
   "cell_type": "code",
   "execution_count": null,
   "id": "c84ea9d5",
   "metadata": {},
   "outputs": [],
   "source": [
    "# join player positions\n",
    "df = df.merge(\n",
    "    positions,\n",
    "    left_on='element_type',\n",
    "    right_on='id'\n",
    ")\n",
    "\n",
    "# rename columns\n",
    "df = df.rename(\n",
    "    columns={'name':'team_name', 'singular_name':'position_name'}\n",
    ")\n",
    "\n",
    "# show result\n",
    "df[\n",
    "    ['first_name', 'second_name', 'team_name', 'position_name']\n",
    "].head()"
   ]
  },
  {
   "cell_type": "code",
   "execution_count": null,
   "id": "f0293b9b",
   "metadata": {},
   "outputs": [],
   "source": [
    "# get data from 'element-summary/{PID}/' endpoint for PID=4\n",
    "r = requests.get(base_url + 'element-summary/4/').json()\n",
    "\n",
    "# show top-level fields for player summary\n",
    "pprint(r, depth=1)"
   ]
  },
  {
   "cell_type": "code",
   "execution_count": null,
   "id": "2254b4f0",
   "metadata": {},
   "outputs": [],
   "source": [
    "# show data for first gameweek\n",
    "pprint(r['history'][1])"
   ]
  },
  {
   "cell_type": "code",
   "execution_count": null,
   "id": "01b3a4ef",
   "metadata": {},
   "outputs": [],
   "source": [
    "def get_gameweek_history(player_id):\n",
    "    '''get all gameweek info for a given player_id'''\n",
    "    \n",
    "    # send GET request to\n",
    "    # https://fantasy.premierleague.com/api/element-summary/{PID}/\n",
    "    r = requests.get(\n",
    "            base_url + 'element-summary/' + str(player_id) + '/'\n",
    "    ).json()\n",
    "    \n",
    "    # extract 'history' data from response into dataframe\n",
    "    df = pd.json_normalize(r['history'])\n",
    "    \n",
    "    return df\n",
    "\n",
    "\n",
    "# show player #4's gameweek history\n",
    "get_gameweek_history(4)[\n",
    "    [\n",
    "        'round',\n",
    "        'total_points',\n",
    "        'minutes',\n",
    "        'goals_scored',\n",
    "        'assists'\n",
    "    ]\n",
    "].head()"
   ]
  },
  {
   "cell_type": "code",
   "execution_count": null,
   "id": "d46d9aed",
   "metadata": {},
   "outputs": [],
   "source": [
    "def get_season_history(player_id):\n",
    "    '''get all past season info for a given player_id'''\n",
    "    \n",
    "    # send GET request to\n",
    "    # https://fantasy.premierleague.com/api/element-summary/{PID}/\n",
    "    r = requests.get(\n",
    "            base_url + 'element-summary/' + str(player_id) + '/'\n",
    "    ).json()\n",
    "    \n",
    "    # extract 'history_past' data from response into dataframe\n",
    "    df = pd.json_normalize(r['history_past'])\n",
    "    \n",
    "    return df\n",
    "\n",
    "\n",
    "# show player #1's gameweek history\n",
    "get_season_history(1)[\n",
    "    [\n",
    "        'season_name',\n",
    "        'total_points',\n",
    "        'minutes',\n",
    "        'goals_scored',\n",
    "        'assists'\n",
    "    ]\n",
    "].head(10)"
   ]
  },
  {
   "cell_type": "code",
   "execution_count": null,
   "id": "70978fb9",
   "metadata": {},
   "outputs": [],
   "source": [
    "# select columns of interest from players df\n",
    "players = players[\n",
    "    ['id', 'first_name', 'second_name', 'web_name', 'team',\n",
    "     'element_type']\n",
    "]\n",
    "\n",
    "# join team name\n",
    "players = players.merge(\n",
    "    teams[['id', 'name']],\n",
    "    left_on='team',\n",
    "    right_on='id',\n",
    "    suffixes=['_player', None]\n",
    ").drop(['team', 'id'], axis=1)\n",
    "\n",
    "# join player positions\n",
    "players = players.merge(\n",
    "    positions[['id', 'singular_name_short']],\n",
    "    left_on='element_type',\n",
    "    right_on='id'\n",
    ").drop(['element_type', 'id'], axis=1)\n",
    "\n",
    "players.head()"
   ]
  },
  {
   "cell_type": "code",
   "execution_count": 14,
   "id": "a1ae8175",
   "metadata": {},
   "outputs": [],
   "source": [
    "from tqdm.auto import tqdm\n",
    "tqdm.pandas()"
   ]
  },
  {
   "cell_type": "code",
   "execution_count": 15,
   "id": "46c9b349",
   "metadata": {},
   "outputs": [
    {
     "data": {
      "application/vnd.jupyter.widget-view+json": {
       "model_id": "0da5561b2b894840b2c4bd98d048425e",
       "version_major": 2,
       "version_minor": 0
      },
      "text/plain": [
       "  0%|          | 0/714 [00:00<?, ?it/s]"
      ]
     },
     "metadata": {},
     "output_type": "display_data"
    }
   ],
   "source": [
    "# get gameweek histories for each player\n",
    "points = players['id_player'].progress_apply(get_gameweek_history)\n",
    "\n",
    "# combine results into single dataframe\n",
    "points = pd.concat(df for df in points)\n",
    "\n",
    "# join web_name\n",
    "points = players[['id_player', 'web_name']].merge(\n",
    "    points,\n",
    "    left_on='id_player',\n",
    "    right_on='element'\n",
    ")"
   ]
  },
  {
   "cell_type": "code",
   "execution_count": null,
   "id": "cc6d59fb",
   "metadata": {},
   "outputs": [],
   "source": [
    "# get top scoring players\n",
    "# test_df =\n",
    "points.groupby(\n",
    "                    ['element', 'web_name']\n",
    "                ).agg(\n",
    "                    {'total_points':'sum',\n",
    "                     'goals_scored':'sum', \n",
    "                     'assists':'sum',\n",
    "                     'selected':'sum'}\n",
    "                ).reset_index(\n",
    "                ).sort_values(\n",
    "                    'total_points', ascending=False\n",
    "                ).head()"
   ]
  },
  {
   "cell_type": "code",
   "execution_count": 17,
   "id": "c88b5c11",
   "metadata": {},
   "outputs": [],
   "source": [
    "import os  \n",
    "os.makedirs('desktop/FPL', exist_ok=True)  \n",
    "points.to_csv('desktop/FPL/points.csv')  \n",
    "players.to_csv('desktop/FPL/players.csv')  "
   ]
  },
  {
   "cell_type": "code",
   "execution_count": 18,
   "id": "9e7aa409",
   "metadata": {},
   "outputs": [],
   "source": [
    "import psycopg2\n",
    "import io\n",
    "import pandas as pd"
   ]
  },
  {
   "cell_type": "code",
   "execution_count": 19,
   "id": "11f08302",
   "metadata": {},
   "outputs": [],
   "source": [
    "# Create a connection to your PostgreSQL database\n",
    "conn = psycopg2.connect(host=\"localhost\", database=\"databasename\", user=\"username\", password=\"password\")\n",
    "\n",
    "# Create a cursor object\n",
    "cur = conn.cursor()\n"
   ]
  },
  {
   "cell_type": "code",
   "execution_count": 47,
   "id": "1fc866b9",
   "metadata": {},
   "outputs": [],
   "source": [
    "cur.execute(\"TRUNCATE TABLE squad, points, player;\")"
   ]
  },
  {
   "cell_type": "code",
   "execution_count": 48,
   "id": "e71d7e08",
   "metadata": {},
   "outputs": [],
   "source": [
    "# Create a DataFrame with your data\n",
    "df = pd.DataFrame(players)\n",
    "\n",
    "# Create a buffer to write the DataFrame to\n",
    "buffer = io.StringIO()\n",
    "\n",
    "# Write the DataFrame to the buffer as a CSV file\n",
    "df.to_csv(buffer, sep=',', index=False, header=False)\n",
    "\n",
    "# Reset the buffer's position to the start\n",
    "buffer.seek(0)\n",
    "\n",
    "# Use the copy_from method to load the CSV file into a PostgreSQL table\n",
    "cur.copy_from(buffer, 'player', sep=',')\n",
    "\n",
    "# Commit the changes to the database\n",
    "conn.commit()\n",
    "\n",
    "# Close the cursor and connection objects\n",
    "cur.close()\n",
    "conn.close()"
   ]
  }
 ],
 "metadata": {
  "kernelspec": {
   "display_name": "Python 3 (ipykernel)",
   "language": "python",
   "name": "python3"
  },
  "language_info": {
   "codemirror_mode": {
    "name": "ipython",
    "version": 3
   },
   "file_extension": ".py",
   "mimetype": "text/x-python",
   "name": "python",
   "nbconvert_exporter": "python",
   "pygments_lexer": "ipython3",
   "version": "3.9.16"
  }
 },
 "nbformat": 4,
 "nbformat_minor": 5
}
